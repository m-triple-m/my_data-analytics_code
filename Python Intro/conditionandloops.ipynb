{
 "cells": [
  {
   "cell_type": "markdown",
   "metadata": {},
   "source": [
    "## Conditions"
   ]
  },
  {
   "cell_type": "code",
   "execution_count": 1,
   "metadata": {},
   "outputs": [],
   "source": [
    "a = 10"
   ]
  },
  {
   "cell_type": "code",
   "execution_count": 7,
   "metadata": {},
   "outputs": [],
   "source": [
    "age = int(input(\"Enter your age\"))"
   ]
  },
  {
   "cell_type": "code",
   "execution_count": 4,
   "metadata": {},
   "outputs": [
    {
     "data": {
      "text/plain": [
       "34"
      ]
     },
     "execution_count": 4,
     "metadata": {},
     "output_type": "execute_result"
    }
   ],
   "source": [
    "age"
   ]
  },
  {
   "cell_type": "code",
   "execution_count": 5,
   "metadata": {},
   "outputs": [
    {
     "data": {
      "text/plain": [
       "int"
      ]
     },
     "execution_count": 5,
     "metadata": {},
     "output_type": "execute_result"
    }
   ],
   "source": [
    "type(age)"
   ]
  },
  {
   "cell_type": "code",
   "execution_count": 8,
   "metadata": {},
   "outputs": [],
   "source": [
    "if age>=18:\n",
    "    print(\"You are eligible for DL\")"
   ]
  },
  {
   "cell_type": "code",
   "execution_count": 11,
   "metadata": {},
   "outputs": [
    {
     "name": "stdout",
     "output_type": "stream",
     "text": [
      "You are not eligible\n"
     ]
    }
   ],
   "source": [
    "age = int(input(\"Enter your age\"))\n",
    "\n",
    "if age>=18:\n",
    "    print(\"You are eligible for DL\")\n",
    "else:\n",
    "    print(\"You are not eligible\")"
   ]
  },
  {
   "cell_type": "code",
   "execution_count": 16,
   "metadata": {},
   "outputs": [
    {
     "name": "stdout",
     "output_type": "stream",
     "text": [
      "Grade C\n"
     ]
    }
   ],
   "source": [
    "marks = int(input('Enter marks '))\n",
    "\n",
    "if marks > 100 :\n",
    "    print('Invalid input')\n",
    "elif marks <=100 and marks >=90:\n",
    "    print('Grade A')\n",
    "elif marks <90 and marks >=50:\n",
    "    print('Grade B')\n",
    "elif marks <50 and marks >=30:\n",
    "    print('Grade C')\n",
    "elif marks <30 and marks >=0:\n",
    "    print('Fail')\n",
    "elif marks < 0:\n",
    "    print('Invalid input')"
   ]
  },
  {
   "cell_type": "code",
   "execution_count": 18,
   "metadata": {},
   "outputs": [
    {
     "name": "stdout",
     "output_type": "stream",
     "text": [
      "Invalid input\n"
     ]
    }
   ],
   "source": [
    "marks = int(input('Enter marks '))\n",
    "\n",
    "if marks <=100 and marks >=90:\n",
    "    print('Grade A')\n",
    "elif marks <90 and marks >=50:\n",
    "    print('Grade B')\n",
    "elif marks <50 and marks >=30:\n",
    "    print('Grade C')\n",
    "elif marks <30 and marks >=0:\n",
    "    print('Fail')\n",
    "else:\n",
    "    print('Invalid input')"
   ]
  },
  {
   "cell_type": "markdown",
   "metadata": {},
   "source": [
    "## Loops"
   ]
  },
  {
   "cell_type": "code",
   "execution_count": 20,
   "metadata": {},
   "outputs": [
    {
     "name": "stdout",
     "output_type": "stream",
     "text": [
      "M\n",
      "Loop is running\n",
      "u\n",
      "Loop is running\n",
      "b\n",
      "Loop is running\n",
      "a\n",
      "Loop is running\n",
      "s\n",
      "Loop is running\n",
      "s\n",
      "Loop is running\n",
      "i\n",
      "Loop is running\n",
      "r\n",
      "Loop is running\n"
     ]
    }
   ],
   "source": [
    "name = \"Mubassir\"\n",
    "\n",
    "for i in name:\n",
    "    print(i)\n",
    "    print(\"Loop is running\")"
   ]
  },
  {
   "cell_type": "code",
   "execution_count": 1,
   "metadata": {},
   "outputs": [
    {
     "name": "stdout",
     "output_type": "stream",
     "text": [
      "0\n",
      "1\n",
      "2\n",
      "3\n",
      "4\n",
      "5\n",
      "6\n",
      "7\n",
      "8\n",
      "9\n"
     ]
    }
   ],
   "source": [
    "for i in range(10):\n",
    "    print(i)"
   ]
  },
  {
   "cell_type": "code",
   "execution_count": 2,
   "metadata": {},
   "outputs": [
    {
     "name": "stdout",
     "output_type": "stream",
     "text": [
      "1\n",
      "2\n",
      "3\n",
      "4\n",
      "5\n",
      "6\n",
      "7\n",
      "8\n",
      "9\n"
     ]
    }
   ],
   "source": [
    "for i in range(1, 10):\n",
    "    print(i)"
   ]
  },
  {
   "cell_type": "code",
   "execution_count": 4,
   "metadata": {},
   "outputs": [
    {
     "name": "stdout",
     "output_type": "stream",
     "text": [
      "1\n",
      "4\n",
      "7\n",
      "10\n"
     ]
    }
   ],
   "source": [
    "for i in range(1, 11, 3):\n",
    "    print(i)"
   ]
  },
  {
   "cell_type": "code",
   "execution_count": 7,
   "metadata": {},
   "outputs": [
    {
     "name": "stdout",
     "output_type": "stream",
     "text": [
      "21\n",
      "19\n",
      "17\n",
      "15\n",
      "13\n",
      "11\n"
     ]
    }
   ],
   "source": [
    "for i in range(21, 10, -2):\n",
    "    print(i)"
   ]
  },
  {
   "cell_type": "code",
   "execution_count": 8,
   "metadata": {},
   "outputs": [
    {
     "data": {
      "text/plain": [
       "'zzzzzzzzzzzzzzzzzzzzzzzzzzz'"
      ]
     },
     "execution_count": 8,
     "metadata": {},
     "output_type": "execute_result"
    }
   ],
   "source": [
    "\"zzz\" * 9"
   ]
  },
  {
   "cell_type": "code",
   "execution_count": 9,
   "metadata": {},
   "outputs": [
    {
     "data": {
      "text/plain": [
       "'😎😎😎😎😎'"
      ]
     },
     "execution_count": 9,
     "metadata": {},
     "output_type": "execute_result"
    }
   ],
   "source": [
    "\"😎\" * 5"
   ]
  },
  {
   "cell_type": "code",
   "execution_count": 10,
   "metadata": {},
   "outputs": [
    {
     "name": "stdout",
     "output_type": "stream",
     "text": [
      " # \n",
      " #  # \n",
      " #  #  # \n",
      " #  #  #  # \n",
      " #  #  #  #  # \n",
      " #  #  #  #  #  # \n",
      " #  #  #  #  #  #  # \n",
      " #  #  #  #  #  #  #  # \n",
      " #  #  #  #  #  #  #  #  # \n"
     ]
    }
   ],
   "source": [
    "for i in range(1, 10):\n",
    "    print( i * ' # ' )"
   ]
  },
  {
   "cell_type": "code",
   "execution_count": 16,
   "metadata": {},
   "outputs": [
    {
     "name": "stdout",
     "output_type": "stream",
     "text": [
      "                              #                             \n",
      "                            # # #                           \n",
      "                          # # # # #                         \n",
      "                        # # # # # # #                       \n",
      "                      # # # # # # # # #                     \n",
      "                    # # # # # # # # # # #                   \n",
      "                  # # # # # # # # # # # # #                 \n",
      "                # # # # # # # # # # # # # # #               \n",
      "              # # # # # # # # # # # # # # # # #             \n",
      "            # # # # # # # # # # # # # # # # # # #           \n"
     ]
    }
   ],
   "source": [
    "for i in range(1, 20, 2):\n",
    "    print( (i * ' #').center(60) )"
   ]
  },
  {
   "cell_type": "code",
   "execution_count": 29,
   "metadata": {},
   "outputs": [
    {
     "name": "stdout",
     "output_type": "stream",
     "text": [
      "💎\n",
      "💎💎\n",
      "💎💎💎\n",
      "💎💎💎💎\n",
      "💎💎💎💎💎\n",
      "💎💎💎💎💎💎\n",
      "💎💎💎💎💎💎💎\n",
      "💎💎💎💎💎💎💎💎\n",
      "💎💎💎💎💎💎💎💎💎\n"
     ]
    }
   ],
   "source": [
    "for i in range(1, 10):\n",
    "    print( i * '💎' )\n",
    "    "
   ]
  },
  {
   "cell_type": "code",
   "execution_count": null,
   "metadata": {},
   "outputs": [],
   "source": []
  }
 ],
 "metadata": {
  "interpreter": {
   "hash": "06cb67651ce969e244f20f184e33f4ddb1106793adfe07cf7ddc131c95c4012f"
  },
  "kernelspec": {
   "display_name": "Python 3.9.10 64-bit",
   "language": "python",
   "name": "python3"
  },
  "language_info": {
   "codemirror_mode": {
    "name": "ipython",
    "version": 3
   },
   "file_extension": ".py",
   "mimetype": "text/x-python",
   "name": "python",
   "nbconvert_exporter": "python",
   "pygments_lexer": "ipython3",
   "version": "3.9.10"
  },
  "orig_nbformat": 4
 },
 "nbformat": 4,
 "nbformat_minor": 2
}
